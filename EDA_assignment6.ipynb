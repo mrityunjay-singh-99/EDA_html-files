{
 "cells": [
  {
   "cell_type": "code",
   "execution_count": 2,
   "id": "acc5450e-9810-4282-817d-d638a430839b",
   "metadata": {},
   "outputs": [],
   "source": [
    "import pandas as pd\n",
    "import numpy as np\n",
    "import matplotlib.pyplot as plt \n",
    "import seaborn as sns"
   ]
  },
  {
   "cell_type": "code",
   "execution_count": 2,
   "id": "be8bbb98-aabd-4f72-8822-1c28d6d73e92",
   "metadata": {},
   "outputs": [
    {
     "ename": "NameError",
     "evalue": "name 'pd' is not defined",
     "output_type": "error",
     "traceback": [
      "\u001b[1;31m---------------------------------------------------------------------------\u001b[0m",
      "\u001b[1;31mNameError\u001b[0m                                 Traceback (most recent call last)",
      "Cell \u001b[1;32mIn[2], line 2\u001b[0m\n\u001b[0;32m      1\u001b[0m file_path\u001b[38;5;241m=\u001b[39m\u001b[38;5;124mr\u001b[39m\u001b[38;5;124m\"\u001b[39m\u001b[38;5;124mC:\u001b[39m\u001b[38;5;124m\\\u001b[39m\u001b[38;5;124mUsers\u001b[39m\u001b[38;5;124m\\\u001b[39m\u001b[38;5;124mMrityunjay\u001b[39m\u001b[38;5;124m\\\u001b[39m\u001b[38;5;124mDesktop\u001b[39m\u001b[38;5;124m\\\u001b[39m\u001b[38;5;124mData science naresh it\u001b[39m\u001b[38;5;124m\\\u001b[39m\u001b[38;5;124mClass notes by me\u001b[39m\u001b[38;5;124m\\\u001b[39m\u001b[38;5;124mVisadataset.csv\u001b[39m\u001b[38;5;124m\"\u001b[39m\n\u001b[1;32m----> 2\u001b[0m visa_df\u001b[38;5;241m=\u001b[39mpd\u001b[38;5;241m.\u001b[39mread_csv(file_path)\n\u001b[0;32m      3\u001b[0m visa_df\n",
      "\u001b[1;31mNameError\u001b[0m: name 'pd' is not defined"
     ]
    }
   ],
   "source": [
    "file_path=r\"C:\\Users\\Mrityunjay\\Desktop\\Data science naresh it\\Class notes by me\\Visadataset.csv\"\n",
    "visa_df=pd.read_csv(file_path)\n",
    "visa_df"
   ]
  },
  {
   "cell_type": "code",
   "execution_count": null,
   "id": "70b669c0-90ba-49df-bf5e-8725d3d8ef52",
   "metadata": {},
   "outputs": [],
   "source": [
    "visa_df[\"continent\"].value_counts() "
   ]
  },
  {
   "cell_type": "code",
   "execution_count": null,
   "id": "4367d408-cdd3-497a-b29e-32701ff1414e",
   "metadata": {},
   "outputs": [],
   "source": [
    "visa_df[\"case_status\"].value_counts() "
   ]
  },
  {
   "cell_type": "code",
   "execution_count": null,
   "id": "314124c2-22b1-4dc4-95c6-83b62beb989b",
   "metadata": {},
   "outputs": [],
   "source": [
    "visa_df[\"continent\"].unique()"
   ]
  },
  {
   "cell_type": "code",
   "execution_count": null,
   "id": "8399ea66-74c9-40b5-99e9-a476010b8129",
   "metadata": {},
   "outputs": [],
   "source": [
    "visa_df[\"case_status\"].unique()"
   ]
  },
  {
   "cell_type": "code",
   "execution_count": null,
   "id": "215156a5-ed30-4a62-bf7d-2eb6ec9f9b1f",
   "metadata": {},
   "outputs": [],
   "source": [
    "for i in visa_df[\"continent\"].unique():\n",
    "    con=visa_df[\"continent\"]==i\n",
    "    count=len(visa_df[con])\n",
    "    print(f'{i}:{count}')"
   ]
  },
  {
   "cell_type": "code",
   "execution_count": null,
   "id": "839e9ff2-477a-4453-b7fc-111d385295ab",
   "metadata": {},
   "outputs": [],
   "source": [
    "for i in visa_df[\"case_status\"].unique():\n",
    "    con=visa_df[\"case_status\"]==i\n",
    "    count=len(visa_df[con])\n",
    "    print(f'{i}:{count}')"
   ]
  },
  {
   "cell_type": "code",
   "execution_count": null,
   "id": "05a5ab04-b046-49b5-9c0a-c4a1d86e2717",
   "metadata": {},
   "outputs": [],
   "source": [
    "con1=visa_df[\"case_status\"]==\"Certified\"\n",
    "visa_df[con1][[\"continent\",\"case_status\"]]"
   ]
  },
  {
   "cell_type": "code",
   "execution_count": null,
   "id": "904c0159-361d-4f4f-a826-8ce43ab0ca5f",
   "metadata": {},
   "outputs": [],
   "source": [
    "#how many applicants got Certified Visa per continent wise\n",
    "\n",
    "con2=visa_df[\"case_status\"]==\"Certified\"\n",
    "df=visa_df[con2]\n",
    "df[\"continent\"].value_counts()"
   ]
  },
  {
   "cell_type": "code",
   "execution_count": null,
   "id": "c840ba94-2a9b-4d00-8054-cca3a1eb90ef",
   "metadata": {},
   "outputs": [],
   "source": [
    "con1=visa_df[\"case_status\"]==\"Denied\"\n",
    "visa_df[con1][[\"continent\",\"case_status\"]]"
   ]
  },
  {
   "cell_type": "code",
   "execution_count": null,
   "id": "02bebf9e-f2e4-4edf-91df-e30e5318b7a7",
   "metadata": {},
   "outputs": [],
   "source": [
    "#how many applicants got Denied Visa per continent wise\n",
    "\n",
    "con2=visa_df[\"case_status\"]==\"Denied\"\n",
    "df=visa_df[con2]\n",
    "df[\"continent\"].value_counts()"
   ]
  },
  {
   "cell_type": "code",
   "execution_count": null,
   "id": "a9b9138a-23f2-443e-b7ee-38ebcf23853f",
   "metadata": {},
   "outputs": [],
   "source": [
    "con1=visa_df[\"continent\"]==\"Asia\"\n",
    "con2=visa_df[\"case_status\"]==\"Certified\"\n",
    "con=con1 &con2\n",
    "visa_df[con][[\"continent\",\"case_status\"]]"
   ]
  },
  {
   "cell_type": "code",
   "execution_count": null,
   "id": "a6e50e68-5672-4004-9b4f-196eb4a04c4a",
   "metadata": {},
   "outputs": [],
   "source": [
    "l=[]\n",
    "for i in visa_df[\"continent\"].unique():\n",
    "        for j in visa_df[\"case_status\"].unique():\n",
    "            con1=visa_df[\"continent\"]==i\n",
    "            con2=visa_df[\"case_status\"]==j\n",
    "            con=con1 &con2\n",
    "            l.append(visa_df[con][[\"continent\",\"case_status\"]])\n",
    "l"
   ]
  },
  {
   "cell_type": "code",
   "execution_count": null,
   "id": "a17c9727-2f81-4ba4-89c1-d1a071900afc",
   "metadata": {},
   "outputs": [],
   "source": [
    "visa_df[\"continent\"].unique(),visa_df[\"case_status\"].unique()"
   ]
  },
  {
   "cell_type": "code",
   "execution_count": null,
   "id": "52620454-6d92-4b9f-8c52-730a86df884e",
   "metadata": {},
   "outputs": [],
   "source": []
  }
 ],
 "metadata": {
  "kernelspec": {
   "display_name": "Python 3 (ipykernel)",
   "language": "python",
   "name": "python3"
  },
  "language_info": {
   "codemirror_mode": {
    "name": "ipython",
    "version": 3
   },
   "file_extension": ".py",
   "mimetype": "text/x-python",
   "name": "python",
   "nbconvert_exporter": "python",
   "pygments_lexer": "ipython3",
   "version": "3.12.4"
  }
 },
 "nbformat": 4,
 "nbformat_minor": 5
}
