{
 "cells": [
  {
   "cell_type": "code",
   "execution_count": 1,
   "id": "2707c677-7796-4200-a3ef-f76e8bb07420",
   "metadata": {},
   "outputs": [],
   "source": [
    "import pandas as pd\n",
    "import numpy as np"
   ]
  },
  {
   "cell_type": "code",
   "execution_count": 7,
   "id": "76f5d79b-8d8a-4660-8bda-0c26f7c98b41",
   "metadata": {},
   "outputs": [
    {
     "data": {
      "text/html": [
       "<div>\n",
       "<style scoped>\n",
       "    .dataframe tbody tr th:only-of-type {\n",
       "        vertical-align: middle;\n",
       "    }\n",
       "\n",
       "    .dataframe tbody tr th {\n",
       "        vertical-align: top;\n",
       "    }\n",
       "\n",
       "    .dataframe thead th {\n",
       "        text-align: right;\n",
       "    }\n",
       "</style>\n",
       "<table border=\"1\" class=\"dataframe\">\n",
       "  <thead>\n",
       "    <tr style=\"text-align: right;\">\n",
       "      <th></th>\n",
       "      <th>case_id</th>\n",
       "      <th>continent</th>\n",
       "      <th>education_of_employee</th>\n",
       "      <th>has_job_experience</th>\n",
       "      <th>requires_job_training</th>\n",
       "      <th>no_of_employees</th>\n",
       "      <th>yr_of_estab</th>\n",
       "      <th>region_of_employment</th>\n",
       "      <th>prevailing_wage</th>\n",
       "      <th>unit_of_wage</th>\n",
       "      <th>full_time_position</th>\n",
       "      <th>case_status</th>\n",
       "    </tr>\n",
       "  </thead>\n",
       "  <tbody>\n",
       "    <tr>\n",
       "      <th>0</th>\n",
       "      <td>EZYV01</td>\n",
       "      <td>Asia</td>\n",
       "      <td>High School</td>\n",
       "      <td>N</td>\n",
       "      <td>N</td>\n",
       "      <td>14513</td>\n",
       "      <td>2007</td>\n",
       "      <td>West</td>\n",
       "      <td>592.2029</td>\n",
       "      <td>Hour</td>\n",
       "      <td>Y</td>\n",
       "      <td>Denied</td>\n",
       "    </tr>\n",
       "    <tr>\n",
       "      <th>1</th>\n",
       "      <td>EZYV02</td>\n",
       "      <td>Asia</td>\n",
       "      <td>Master's</td>\n",
       "      <td>Y</td>\n",
       "      <td>N</td>\n",
       "      <td>2412</td>\n",
       "      <td>2002</td>\n",
       "      <td>Northeast</td>\n",
       "      <td>83425.6500</td>\n",
       "      <td>Year</td>\n",
       "      <td>Y</td>\n",
       "      <td>Certified</td>\n",
       "    </tr>\n",
       "    <tr>\n",
       "      <th>2</th>\n",
       "      <td>EZYV03</td>\n",
       "      <td>Asia</td>\n",
       "      <td>Bachelor's</td>\n",
       "      <td>N</td>\n",
       "      <td>Y</td>\n",
       "      <td>44444</td>\n",
       "      <td>2008</td>\n",
       "      <td>West</td>\n",
       "      <td>122996.8600</td>\n",
       "      <td>Year</td>\n",
       "      <td>Y</td>\n",
       "      <td>Denied</td>\n",
       "    </tr>\n",
       "    <tr>\n",
       "      <th>3</th>\n",
       "      <td>EZYV04</td>\n",
       "      <td>Asia</td>\n",
       "      <td>Bachelor's</td>\n",
       "      <td>N</td>\n",
       "      <td>N</td>\n",
       "      <td>98</td>\n",
       "      <td>1897</td>\n",
       "      <td>West</td>\n",
       "      <td>83434.0300</td>\n",
       "      <td>Year</td>\n",
       "      <td>Y</td>\n",
       "      <td>Denied</td>\n",
       "    </tr>\n",
       "    <tr>\n",
       "      <th>4</th>\n",
       "      <td>EZYV05</td>\n",
       "      <td>Africa</td>\n",
       "      <td>Master's</td>\n",
       "      <td>Y</td>\n",
       "      <td>N</td>\n",
       "      <td>1082</td>\n",
       "      <td>2005</td>\n",
       "      <td>South</td>\n",
       "      <td>149907.3900</td>\n",
       "      <td>Year</td>\n",
       "      <td>Y</td>\n",
       "      <td>Certified</td>\n",
       "    </tr>\n",
       "    <tr>\n",
       "      <th>...</th>\n",
       "      <td>...</td>\n",
       "      <td>...</td>\n",
       "      <td>...</td>\n",
       "      <td>...</td>\n",
       "      <td>...</td>\n",
       "      <td>...</td>\n",
       "      <td>...</td>\n",
       "      <td>...</td>\n",
       "      <td>...</td>\n",
       "      <td>...</td>\n",
       "      <td>...</td>\n",
       "      <td>...</td>\n",
       "    </tr>\n",
       "    <tr>\n",
       "      <th>25475</th>\n",
       "      <td>EZYV25476</td>\n",
       "      <td>Asia</td>\n",
       "      <td>Bachelor's</td>\n",
       "      <td>Y</td>\n",
       "      <td>Y</td>\n",
       "      <td>2601</td>\n",
       "      <td>2008</td>\n",
       "      <td>South</td>\n",
       "      <td>77092.5700</td>\n",
       "      <td>Year</td>\n",
       "      <td>Y</td>\n",
       "      <td>Certified</td>\n",
       "    </tr>\n",
       "    <tr>\n",
       "      <th>25476</th>\n",
       "      <td>EZYV25477</td>\n",
       "      <td>Asia</td>\n",
       "      <td>High School</td>\n",
       "      <td>Y</td>\n",
       "      <td>N</td>\n",
       "      <td>3274</td>\n",
       "      <td>2006</td>\n",
       "      <td>Northeast</td>\n",
       "      <td>279174.7900</td>\n",
       "      <td>Year</td>\n",
       "      <td>Y</td>\n",
       "      <td>Certified</td>\n",
       "    </tr>\n",
       "    <tr>\n",
       "      <th>25477</th>\n",
       "      <td>EZYV25478</td>\n",
       "      <td>Asia</td>\n",
       "      <td>Master's</td>\n",
       "      <td>Y</td>\n",
       "      <td>N</td>\n",
       "      <td>1121</td>\n",
       "      <td>1910</td>\n",
       "      <td>South</td>\n",
       "      <td>146298.8500</td>\n",
       "      <td>Year</td>\n",
       "      <td>N</td>\n",
       "      <td>Certified</td>\n",
       "    </tr>\n",
       "    <tr>\n",
       "      <th>25478</th>\n",
       "      <td>EZYV25479</td>\n",
       "      <td>Asia</td>\n",
       "      <td>Master's</td>\n",
       "      <td>Y</td>\n",
       "      <td>Y</td>\n",
       "      <td>1918</td>\n",
       "      <td>1887</td>\n",
       "      <td>West</td>\n",
       "      <td>86154.7700</td>\n",
       "      <td>Year</td>\n",
       "      <td>Y</td>\n",
       "      <td>Certified</td>\n",
       "    </tr>\n",
       "    <tr>\n",
       "      <th>25479</th>\n",
       "      <td>EZYV25480</td>\n",
       "      <td>Asia</td>\n",
       "      <td>Bachelor's</td>\n",
       "      <td>Y</td>\n",
       "      <td>N</td>\n",
       "      <td>3195</td>\n",
       "      <td>1960</td>\n",
       "      <td>Midwest</td>\n",
       "      <td>70876.9100</td>\n",
       "      <td>Year</td>\n",
       "      <td>Y</td>\n",
       "      <td>Certified</td>\n",
       "    </tr>\n",
       "  </tbody>\n",
       "</table>\n",
       "<p>25480 rows × 12 columns</p>\n",
       "</div>"
      ],
      "text/plain": [
       "         case_id continent education_of_employee has_job_experience  \\\n",
       "0         EZYV01      Asia           High School                  N   \n",
       "1         EZYV02      Asia              Master's                  Y   \n",
       "2         EZYV03      Asia            Bachelor's                  N   \n",
       "3         EZYV04      Asia            Bachelor's                  N   \n",
       "4         EZYV05    Africa              Master's                  Y   \n",
       "...          ...       ...                   ...                ...   \n",
       "25475  EZYV25476      Asia            Bachelor's                  Y   \n",
       "25476  EZYV25477      Asia           High School                  Y   \n",
       "25477  EZYV25478      Asia              Master's                  Y   \n",
       "25478  EZYV25479      Asia              Master's                  Y   \n",
       "25479  EZYV25480      Asia            Bachelor's                  Y   \n",
       "\n",
       "      requires_job_training  no_of_employees  yr_of_estab  \\\n",
       "0                         N            14513         2007   \n",
       "1                         N             2412         2002   \n",
       "2                         Y            44444         2008   \n",
       "3                         N               98         1897   \n",
       "4                         N             1082         2005   \n",
       "...                     ...              ...          ...   \n",
       "25475                     Y             2601         2008   \n",
       "25476                     N             3274         2006   \n",
       "25477                     N             1121         1910   \n",
       "25478                     Y             1918         1887   \n",
       "25479                     N             3195         1960   \n",
       "\n",
       "      region_of_employment  prevailing_wage unit_of_wage full_time_position  \\\n",
       "0                     West         592.2029         Hour                  Y   \n",
       "1                Northeast       83425.6500         Year                  Y   \n",
       "2                     West      122996.8600         Year                  Y   \n",
       "3                     West       83434.0300         Year                  Y   \n",
       "4                    South      149907.3900         Year                  Y   \n",
       "...                    ...              ...          ...                ...   \n",
       "25475                South       77092.5700         Year                  Y   \n",
       "25476            Northeast      279174.7900         Year                  Y   \n",
       "25477                South      146298.8500         Year                  N   \n",
       "25478                 West       86154.7700         Year                  Y   \n",
       "25479              Midwest       70876.9100         Year                  Y   \n",
       "\n",
       "      case_status  \n",
       "0          Denied  \n",
       "1       Certified  \n",
       "2          Denied  \n",
       "3          Denied  \n",
       "4       Certified  \n",
       "...           ...  \n",
       "25475   Certified  \n",
       "25476   Certified  \n",
       "25477   Certified  \n",
       "25478   Certified  \n",
       "25479   Certified  \n",
       "\n",
       "[25480 rows x 12 columns]"
      ]
     },
     "execution_count": 7,
     "metadata": {},
     "output_type": "execute_result"
    }
   ],
   "source": [
    "file_path=r\"C:\\Users\\Mrityunjay\\Desktop\\Data science naresh it\\Class notes by me\\EDA_\\Visadataset.csv\"\n",
    "visa_df=pd.read_csv(file_path)\n",
    "visa_df"
   ]
  },
  {
   "cell_type": "code",
   "execution_count": 11,
   "id": "8e27adbc-1972-4d9d-915e-4afab89997b5",
   "metadata": {},
   "outputs": [
    {
     "data": {
      "text/plain": [
       "0           592.2029\n",
       "1         83425.6500\n",
       "2        122996.8600\n",
       "3         83434.0300\n",
       "4        149907.3900\n",
       "            ...     \n",
       "25475     77092.5700\n",
       "25476    279174.7900\n",
       "25477    146298.8500\n",
       "25478     86154.7700\n",
       "25479     70876.9100\n",
       "Name: prevailing_wage, Length: 25480, dtype: float64"
      ]
     },
     "execution_count": 11,
     "metadata": {},
     "output_type": "execute_result"
    }
   ],
   "source": [
    "#standardization\n",
    "p_wage=visa_df[\"prevailing_wage\"]\n",
    "p_wage"
   ]
  },
  {
   "cell_type": "code",
   "execution_count": 15,
   "id": "0f1e2737-f983-485a-9ca0-d6b9f0d0b20a",
   "metadata": {},
   "outputs": [
    {
     "data": {
      "text/plain": [
       "74455.81459209183"
      ]
     },
     "execution_count": 15,
     "metadata": {},
     "output_type": "execute_result"
    }
   ],
   "source": [
    "p_mean=np.mean(visa_df[\"prevailing_wage\"])\n",
    "p_mean"
   ]
  },
  {
   "cell_type": "code",
   "execution_count": 17,
   "id": "8d993139-1207-487b-afb7-e8915b0d160a",
   "metadata": {},
   "outputs": [
    {
     "data": {
      "text/plain": [
       "52814.90589711402"
      ]
     },
     "execution_count": 17,
     "metadata": {},
     "output_type": "execute_result"
    }
   ],
   "source": [
    "p_std=np.std(visa_df[\"prevailing_wage\"])\n",
    "p_std"
   ]
  },
  {
   "cell_type": "code",
   "execution_count": 21,
   "id": "5f8e68f1-be9f-4f1c-aff7-5da716861ba6",
   "metadata": {},
   "outputs": [
    {
     "data": {
      "text/plain": [
       "0       -1.398537\n",
       "1        0.169835\n",
       "2        0.919079\n",
       "3        0.169994\n",
       "4        1.428604\n",
       "           ...   \n",
       "25475    0.049924\n",
       "25476    3.876159\n",
       "25477    1.360280\n",
       "25478    0.221509\n",
       "25479   -0.067763\n",
       "Name: prevailing_wage, Length: 25480, dtype: float64"
      ]
     },
     "execution_count": 21,
     "metadata": {},
     "output_type": "execute_result"
    }
   ],
   "source": [
    "z_score=(p_wage-p_mean)/p_std\n",
    "z_score"
   ]
  },
  {
   "cell_type": "code",
   "execution_count": 23,
   "id": "31a94df3-afcd-4b97-b3bd-12063c2c0735",
   "metadata": {},
   "outputs": [
    {
     "data": {
      "text/plain": [
       "(0           592.2029\n",
       " 1         83425.6500\n",
       " 2        122996.8600\n",
       " 3         83434.0300\n",
       " 4        149907.3900\n",
       "             ...     \n",
       " 25475     77092.5700\n",
       " 25476    279174.7900\n",
       " 25477    146298.8500\n",
       " 25478     86154.7700\n",
       " 25479     70876.9100\n",
       " Name: prevailing_wage, Length: 25480, dtype: float64,\n",
       " 2.1367,\n",
       " 319210.27)"
      ]
     },
     "execution_count": 23,
     "metadata": {},
     "output_type": "execute_result"
    }
   ],
   "source": [
    "#notalization\n",
    "p_wage=visa_df[\"prevailing_wage\"]\n",
    "p_wage,min(p_wage),max(p_wage)"
   ]
  },
  {
   "cell_type": "code",
   "execution_count": 29,
   "id": "6fc5692e-4c2d-4564-b450-d76026ab05de",
   "metadata": {},
   "outputs": [
    {
     "data": {
      "text/plain": [
       "0        0.001849\n",
       "1        0.261345\n",
       "2        0.385312\n",
       "3        0.261371\n",
       "4        0.469616\n",
       "           ...   \n",
       "25475    0.241505\n",
       "25476    0.874579\n",
       "25477    0.458311\n",
       "25478    0.269895\n",
       "25479    0.222033\n",
       "Name: prevailing_wage, Length: 25480, dtype: float64"
      ]
     },
     "execution_count": 29,
     "metadata": {},
     "output_type": "execute_result"
    }
   ],
   "source": [
    "min_max=(p_wage-min(p_wage))/(max(p_wage)-min(p_wage))\n",
    "min_max"
   ]
  },
  {
   "cell_type": "code",
   "execution_count": 31,
   "id": "8726b262-77de-4e05-9a7f-ee57e9f94dd7",
   "metadata": {},
   "outputs": [
    {
     "data": {
      "text/plain": [
       "Index(['no_of_employees', 'yr_of_estab', 'prevailing_wage'], dtype='object')"
      ]
     },
     "execution_count": 31,
     "metadata": {},
     "output_type": "execute_result"
    }
   ],
   "source": [
    "num_columns=visa_df.select_dtypes(exclude=\"object\").columns\n",
    "num_columns"
   ]
  },
  {
   "cell_type": "code",
   "execution_count": 39,
   "id": "a14a7b8e-353a-4d90-a5ab-0c7e3e5ecaaf",
   "metadata": {},
   "outputs": [
    {
     "name": "stdout",
     "output_type": "stream",
     "text": [
      "0        0.024147\n",
      "1        0.004049\n",
      "2        0.073859\n",
      "3        0.000206\n",
      "4        0.001840\n",
      "           ...   \n",
      "25475    0.004363\n",
      "25476    0.005481\n",
      "25477    0.001905\n",
      "25478    0.003229\n",
      "25479    0.005350\n",
      "Name: no_of_employees, Length: 25480, dtype: float64\n",
      "0        0.958333\n",
      "1        0.935185\n",
      "2        0.962963\n",
      "3        0.449074\n",
      "4        0.949074\n",
      "           ...   \n",
      "25475    0.962963\n",
      "25476    0.953704\n",
      "25477    0.509259\n",
      "25478    0.402778\n",
      "25479    0.740741\n",
      "Name: yr_of_estab, Length: 25480, dtype: float64\n",
      "0        0.001849\n",
      "1        0.261345\n",
      "2        0.385312\n",
      "3        0.261371\n",
      "4        0.469616\n",
      "           ...   \n",
      "25475    0.241505\n",
      "25476    0.874579\n",
      "25477    0.458311\n",
      "25478    0.269895\n",
      "25479    0.222033\n",
      "Name: prevailing_wage, Length: 25480, dtype: float64\n"
     ]
    }
   ],
   "source": [
    "for i in num_columns:\n",
    "    min_max=(visa_df[i]-min(visa_df[i]))/(max(visa_df[i])-min(visa_df[i]))\n",
    "    print(min_max)"
   ]
  },
  {
   "cell_type": "code",
   "execution_count": 41,
   "id": "d343fa46-8203-4f87-90bc-04549d3f05c6",
   "metadata": {},
   "outputs": [
    {
     "name": "stdout",
     "output_type": "stream",
     "text": [
      "0        0.386659\n",
      "1       -0.142279\n",
      "2        1.694950\n",
      "3       -0.243424\n",
      "4       -0.200413\n",
      "           ...   \n",
      "25475   -0.134018\n",
      "25476   -0.104601\n",
      "25477   -0.198709\n",
      "25478   -0.163872\n",
      "25479   -0.108054\n",
      "Name: no_of_employees, Length: 25480, dtype: float64\n",
      "0        0.651217\n",
      "1        0.533201\n",
      "2        0.674820\n",
      "3       -1.945148\n",
      "4        0.604011\n",
      "           ...   \n",
      "25475    0.674820\n",
      "25476    0.627614\n",
      "25477   -1.638304\n",
      "25478   -2.181181\n",
      "25479   -0.458139\n",
      "Name: yr_of_estab, Length: 25480, dtype: float64\n",
      "0       -1.398510\n",
      "1        0.169832\n",
      "2        0.919060\n",
      "3        0.169991\n",
      "4        1.428576\n",
      "           ...   \n",
      "25475    0.049923\n",
      "25476    3.876083\n",
      "25477    1.360253\n",
      "25478    0.221504\n",
      "25479   -0.067762\n",
      "Name: prevailing_wage, Length: 25480, dtype: float64\n"
     ]
    }
   ],
   "source": [
    "for i in num_columns:\n",
    "    \n",
    "    z_score=(visa_df[i]-visa_df[i].mean())/visa_df[i].std()\n",
    "    print(z_score)"
   ]
  },
  {
   "cell_type": "code",
   "execution_count": null,
   "id": "31593fd6-d46e-45bb-a4ee-318ed2dd41da",
   "metadata": {},
   "outputs": [],
   "source": []
  }
 ],
 "metadata": {
  "kernelspec": {
   "display_name": "Python 3 (ipykernel)",
   "language": "python",
   "name": "python3"
  },
  "language_info": {
   "codemirror_mode": {
    "name": "ipython",
    "version": 3
   },
   "file_extension": ".py",
   "mimetype": "text/x-python",
   "name": "python",
   "nbconvert_exporter": "python",
   "pygments_lexer": "ipython3",
   "version": "3.12.4"
  }
 },
 "nbformat": 4,
 "nbformat_minor": 5
}
